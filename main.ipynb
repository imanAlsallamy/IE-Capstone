{
 "cells": [
  {
   "cell_type": "markdown",
   "metadata": {},
   "source": [
    "/root\n",
    "├── <span style=\"color:blue;\"><b>📂 legacy_versions</b></span>                   # Folder of previous versions\n",
    "├── <span style=\"color:blue;\"><b>📂 model_pickles</b></span>                    # Folder of saved models\n",
    "├── <span style=\"color:green;\"><b>📄 divide_dataset_train_test_sim.sql</b></span> # Script used to divide the data for train and simulate\n",
    "├── <span style=\"color:green;\"><b>📄 config.json</b></span>                      # DB Parameters\n",
    "├── <span style=\"color:green;\"><b>📄 data_loader.py</b></span>                   # Contains connection to DB, simple functions for read and write on DB\n",
    "├── <span style=\"color:green;\"><b>📄 eda.ipynb</b></span>                        # Used to explore and understand the dataset with no manipulation done\n",
    "├── <span style=\"color:green;\"><b>📄 preprocessing.py</b></span>                 # Data engineering and prepare the data for the model\n",
    "├── <span style=\"color:green;\"><b>📄 models.py</b></span>                        # This file used to train our models and save it in pickles\n",
    "├── <span style=\"color:green;\"><b>📄 predict.py</b></span>                       # This file used to predict the probabilities of both exited (0, 1) on the simulation data\n",
    "├── <span style=\"color:green;\"><b>📄 utils.py</b></span>                         # Contains utility functions for various tasks\n",
    "└── <span style=\"color:green;\"><b>📄 main.ipynb</b></span>                       # Main notebook to run the entire project\n"
   ]
  }
 ],
 "metadata": {
  "language_info": {
   "name": "python"
  }
 },
 "nbformat": 4,
 "nbformat_minor": 2
}
